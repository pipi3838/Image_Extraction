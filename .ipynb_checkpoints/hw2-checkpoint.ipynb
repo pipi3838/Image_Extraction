{
 "cells": [
  {
   "cell_type": "code",
   "execution_count": 29,
   "metadata": {},
   "outputs": [],
   "source": [
    "import os\n",
    "import glob\n",
    "import cv2\n",
    "import pickle\n",
    "import numpy as np\n",
    "from utils import *\n",
    "\n",
    "path = '/nfs/nas-5.1/wbcheng/cc_hw2/HW2-database-20f/'\n",
    "feature_path = os.path.join(path, 'FeatureDatabase.pkl')"
   ]
  },
  {
   "cell_type": "code",
   "execution_count": 30,
   "metadata": {},
   "outputs": [],
   "source": [
    "with open(feature_path, 'rb') as f:\n",
    "    FeatureDatabase = pickle.load(f)"
   ]
  },
  {
   "cell_type": "markdown",
   "metadata": {},
   "source": [
    "## Color Features\n",
    "the color codecs including\n",
    "- RGB\n",
    "- HSV\n",
    "- Lab\n",
    "- Huv\n",
    "\n",
    "Color features including\n",
    "- Global color histogram\n",
    "- Local color histogram\n",
    "- Color auto-correlogram\n",
    "\n",
    "(Reference: [Image Indexing Using Color Correlograms](http://www.cs.cornell.edu/~rdz/Papers/Huang-CVPR97.pdf))\n",
    "\n",
    "### Analysis\n",
    "| Methods | MAP | Best 2 Categories | Worst 2 Categories\n",
    "|:---------:|:-----:|:-------:|:-----:|\n",
    "| HSV_LocalColorHistogram | 0.226216 |  sprite(0.499967), korean_snack(0.413347) | nba_jersey(0.046873), sweeping_robot(0.049225)\n",
    "| HSV_GlobalColorHistogram | 0.211740 |  minnie_dress(0.462519), sprite(0.420266) | sweeping_robot(0.042221), nba_jersey(0.044431)\n",
    "| RGB_LocalColorHistogram | 0.212424 |  goggles(0.432146), garment(0.420564) | nba_jersey(0.036688), sweeping_robot(0.062293)\n",
    "| RGB_GlobalColorHistogram | 0.212373 |  minnie_dress(0.453384), garment(0.434016) | nba_jersey(0.036465), sweeping_robot(0.051906)\n",
    "| Lab_LocalColorHistogram | 0.213422 |  aloe_vera_gel(0.433329), sprite(0.429386) | nba_jersey(0.033813), sweeping_robot(0.051943)\n",
    "| Lab_GlobalColorHistogram | 0.189149 |  minnie_dress(0.408549), garment(0.389672) | nba_jersey(0.031459), sweeping_robot(0.041205)\n",
    "| YUV_LocalColorHistogram | 0.219221 |  goggles(0.454860), sprite(0.434525) | trousers(0.038745), nba_jersey(0.042527)\n",
    "| YUV_GlobalColorHistogram | 0.199406 |  minnie_dress(0.458688), garment(0.434871) | sweeping_robot(0.037261), nba_jersey(0.044983)\n",
    "| HSV_AutoCorrelogram | **0.263361** |  women_clothes(0.736016), korean_snack(0.724241) | chair(0.061360), sweeping_robot(0.069741)\n",
    "| RGB_AutoCorrelogram | 0.248670 |  women_clothes(0.704038), minnie_dress(0.644990) | chair(0.051438), suitcase(0.063269)\n",
    "\n",
    "\n",
    "\n",
    "- HSV performs the best with regard to color codecs\n",
    "- Auto-correlogram performs the best since it considers color features with spatial features at the same time. But it also spend a lot of time extracting the features.\n",
    "\n",
    "### Best and Worst categories\n",
    "   - Best categories: \n",
    "       - minnie_dress, sprite, garment, korean_snack has great performance\n",
    "       - since the color distribution have a specific pattern that can help distinguish by each others.\n",
    "       \n",
    "   \n",
    "   - Worst categories: \n",
    "       - nba_jersey: it will have multiple different colors on different clothes, so it is hard to distinguish by color's feature. \n",
    "       - sweeping_robot: sweeping_robot does not have specific color and variant in its distribution.\n",
    "   "
   ]
  },
  {
   "cell_type": "markdown",
   "metadata": {},
   "source": [
    "### Histogram"
   ]
  },
  {
   "cell_type": "code",
   "execution_count": 24,
   "metadata": {},
   "outputs": [
    {
     "name": "stdout",
     "output_type": "stream",
     "text": [
      "HSV_LocalColorHistogram  feature\n",
      "MAP: 0.226216 - Time: 1.239151s\n",
      "Best: sprite(0.499967), korean_snack(0.413347)\n",
      "Worst: nba_jersey(0.046873), sweeping_robot(0.049225)\n",
      "\n",
      "HSV_GlobalColorHistogram  feature\n",
      "MAP: 0.211740 - Time: 0.161087s\n",
      "Best: minnie_dress(0.462519), sprite(0.420266)\n",
      "Worst: sweeping_robot(0.042221), nba_jersey(0.044431)\n",
      "\n",
      "RGB_LocalColorHistogram  feature\n",
      "MAP: 0.212424 - Time: 4.028695s\n",
      "Best: goggles(0.432146), garment(0.420564)\n",
      "Worst: nba_jersey(0.036688), sweeping_robot(0.062293)\n",
      "\n",
      "RGB_GlobalColorHistogram  feature\n",
      "MAP: 0.212373 - Time: 0.206943s\n",
      "Best: minnie_dress(0.453384), garment(0.434016)\n",
      "Worst: nba_jersey(0.036465), sweeping_robot(0.051906)\n",
      "\n",
      "Lab_LocalColorHistogram  feature\n",
      "MAP: 0.213422 - Time: 4.023113s\n",
      "Best: aloe_vera_gel(0.433329), sprite(0.429386)\n",
      "Worst: nba_jersey(0.033813), sweeping_robot(0.051943)\n",
      "\n",
      "Lab_GlobalColorHistogram  feature\n",
      "MAP: 0.189149 - Time: 0.206547s\n",
      "Best: minnie_dress(0.408549), garment(0.389672)\n",
      "Worst: nba_jersey(0.031459), sweeping_robot(0.041205)\n",
      "\n",
      "YUV_LocalColorHistogram  feature\n",
      "MAP: 0.219221 - Time: 4.040334s\n",
      "Best: goggles(0.454860), sprite(0.434525)\n",
      "Worst: trousers(0.038745), nba_jersey(0.042527)\n",
      "\n",
      "YUV_GlobalColorHistogram  feature\n",
      "MAP: 0.199406 - Time: 0.205868s\n",
      "Best: minnie_dress(0.458688), garment(0.434871)\n",
      "Worst: sweeping_robot(0.037261), nba_jersey(0.044983)\n",
      "\n"
     ]
    }
   ],
   "source": [
    "colors = ['HSV', 'RGB', 'Lab', 'YUV']\n",
    "hist = ['LocalColorHistogram', 'GlobalColorHistogram']\n",
    "\n",
    "for c in colors:\n",
    "    for h in hist:\n",
    "        key = c + '_' + h\n",
    "        print(key, ' feature')\n",
    "        RunExperiment(FeatureDatabase, FeatureList=[key], MetricList=['cityblock'], WeightList=[1.0])\n",
    "        print()\n"
   ]
  },
  {
   "cell_type": "markdown",
   "metadata": {},
   "source": [
    "### Color auto-correlogram"
   ]
  },
  {
   "cell_type": "code",
   "execution_count": 31,
   "metadata": {},
   "outputs": [
    {
     "name": "stdout",
     "output_type": "stream",
     "text": [
      "HSV_AutoCorrelogram  feature\n",
      "MAP: 0.263361 - Time: 0.207537s\n",
      "Best: women_clothes(0.736016), korean_snack(0.724241)\n",
      "Worst: chair(0.061360), sweeping_robot(0.069741)\n",
      "\n",
      "RGB_AutoCorrelogram  feature\n",
      "MAP: 0.248670 - Time: 0.195207s\n",
      "Best: women_clothes(0.704038), minnie_dress(0.644990)\n",
      "Worst: chair(0.051438), suitcase(0.063269)\n",
      "\n"
     ]
    }
   ],
   "source": [
    "features = [['HSV', 'AutoCorrelogram'], ['RGB', 'AutoCorrelogram']]\n",
    "for f in features:\n",
    "    key = f[0] + '_' + f[1]\n",
    "    print(key, ' feature')\n",
    "    RunExperiment(FeatureDatabase, FeatureList=[key], MetricList=['cityblock'], WeightList=[1.0])\n",
    "    print()\n"
   ]
  },
  {
   "cell_type": "markdown",
   "metadata": {},
   "source": [
    "## Texture Features\n",
    "texture features are extracted with gray image.\n",
    "\n",
    "Texture features including\n",
    "- Gabor Local Histogram\n",
    "- Gabor Global Histogram\n",
    "- Histogram of oriented gradients\n",
    "- Pyramid Histogram of oriented gradients\n",
    "\n",
    "### Analysis\n",
    "| Methods | MAP | Best 2 Categories | Worst 2 Categories\n",
    "|:---------:|:-----:|:-------:|:-----:|\n",
    "| Gray_GaborLocalHistogram | 0.173001 |  goggles(0.469209), garment(0.422922) | sweeping_robot(0.054226), trousers(0.067316)\n",
    "| Gray_GaborGlobalHistogram | 0.177303 |  goggles(0.516008), minnie_dress(0.493558) | sweeping_robot(0.032541), nba_jersey(0.055842)\n",
    "| Gray_HistogramofOrientedGradients | 0.222935 |  goggles(0.583425), lollipop(0.547872) | drum(0.074528), glasses(0.079128)\n",
    "| Gray_PyramidHOG | **0.264539** |  gge_snack(0.775208), goggles(0.622030) | glasses(0.083986), nba_jersey(0.116072)\n",
    "\n",
    "- Pyramid HOG performed the best, improved quite a lot compared to original HOG, shows that pyramid structure is very useful.\n",
    "\n",
    "### Best and Worst categories\n",
    "- Best Categories: \n",
    "    - goggles performs the best:  since it is invariant in shape\n",
    "\n",
    "\n",
    "- Worst Categories:\n",
    "    - sweeping_robot: maybe disturb by inconsistent background\n",
    "    - glasses: shape of glasses are not consistent, and some time the glasses is wear by the girl, somehow intefere the classification process."
   ]
  },
  {
   "cell_type": "code",
   "execution_count": 18,
   "metadata": {},
   "outputs": [
    {
     "name": "stdout",
     "output_type": "stream",
     "text": [
      "Gray_GaborLocalHistogram  feature\n",
      "MAP: 0.173001 - Time: 9.187968s\n",
      "Best: goggles(0.469209), garment(0.422922)\n",
      "Worst: sweeping_robot(0.054226), trousers(0.067316)\n",
      "\n",
      "Gray_GaborGlobalHistogram  feature\n",
      "MAP: 0.177303 - Time: 1.536953s\n",
      "Best: goggles(0.516008), minnie_dress(0.493558)\n",
      "Worst: sweeping_robot(0.032541), nba_jersey(0.055842)\n",
      "\n",
      "Gray_HistogramofOrientedGradients  feature\n",
      "MAP: 0.222935 - Time: 0.660258s\n",
      "Best: goggles(0.583425), lollipop(0.547872)\n",
      "Worst: drum(0.074528), glasses(0.079128)\n",
      "\n",
      "Gray_PyramidHOG  feature\n",
      "MAP: 0.264539 - Time: 11.320757s\n",
      "Best: gge_snack(0.775208), goggles(0.622030)\n",
      "Worst: glasses(0.083986), nba_jersey(0.116072)\n",
      "\n"
     ]
    }
   ],
   "source": [
    "features = [['Gray', 'GaborLocalHistogram'], ['Gray', 'GaborGlobalHistogram'], ['Gray', 'HistogramofOrientedGradients'], ['Gray', 'PyramidHOG']]\n",
    "for f in features:\n",
    "    key = f[0] + '_' + f[1]\n",
    "    print(key, ' feature')\n",
    "    RunExperiment(FeatureDatabase, FeatureList=[key], MetricList=['cityblock'], WeightList=[1.0])\n",
    "    print()"
   ]
  },
  {
   "cell_type": "markdown",
   "metadata": {},
   "source": [
    "## Local Features\n",
    "local features are extracted with gray image.\n",
    "\n",
    "Local features including\n",
    "- SIFT descriptors\n",
    "- Pyramid SIFT descriptors\n",
    "\n",
    "### Analysis\n",
    "| Categories v.s. Methods | MAP | Best 2 Categories | Worst 2 Categories\n",
    "|:---------:|:-----:|:-------:|:-----:|\n",
    "| Gray_SIFT | 0.224655 |  gge_snack(1.000000), aloe_vera_gel(0.954782) | ice_cream(0.022467), goggles(0.027296)\n",
    "| Gray_PyramidSIFT | 0.164527 |  gge_snack(0.413859), aloe_vera_gel(0.413793) | ice_cream(0.034287), trousers(0.038231)\n",
    "\n",
    "\n",
    "\n",
    "- SIFT takes a long time to inference since it can not use cosine-similarity or cityblock metrics (KD-tree with ANN instead)\n",
    "- the average performance is ok, but it does very well on certain categories (almost 100%).\n",
    "\n",
    "### Best and Worst categories\n",
    "- Best Categories:\n",
    "    - gge_snack, aloe_vera_gel: if their is a logo or words on the products, it provides a very good keypoint for the descriptors, and get 100% on the gge_snack category.\n",
    "\n",
    "\n",
    "- Worst Cateogries:\n",
    "    - ice_cream, goggles, trousers: it seems reasonable to have bad performance since no good descriptors can be found on these categories.\n"
   ]
  },
  {
   "cell_type": "code",
   "execution_count": 32,
   "metadata": {},
   "outputs": [
    {
     "name": "stdout",
     "output_type": "stream",
     "text": [
      "Gray_GetSIFT  feature\n",
      "MAP: 0.224655 - Time: 1752.062355s\n",
      "Best: gge_snack(1.000000), aloe_vera_gel(0.954782)\n",
      "Worst: ice_cream(0.022467), goggles(0.027296)\n",
      "\n",
      "Gray_GetPyramidSIFT  feature\n",
      "MAP: 0.164527 - Time: 25346.162085s\n",
      "Best: gge_snack(0.413859), aloe_vera_gel(0.413793)\n",
      "Worst: ice_cream(0.034287), trousers(0.038231)\n",
      "\n"
     ]
    }
   ],
   "source": [
    "features = [['Gray', 'GetSIFT'], ['Gray', 'GetPyramidSIFT']]\n",
    "for f in features:\n",
    "    key = f[0] + '_' + f[1]\n",
    "    print(key, ' feature')\n",
    "    RunExperiment(FeatureDatabase, FeatureList=[key], MetricList=['match'], WeightList=[1.0])\n",
    "    print()"
   ]
  },
  {
   "cell_type": "markdown",
   "metadata": {},
   "source": [
    "## Fusion\n",
    "\n",
    "- HSV with AutoCorrelogram\n",
    "- RGB with AutoCorrelogr\n",
    "- Gray with PyramidHOG\n",
    "- HSV with LocalColorHistogram\n",
    "- Gray with GaborLocalHistogram\n",
    "- Gray with SIFT Descriptor\n",
    "\n",
    "the below features are the best fusion features I have tried and reach 0.373821 on MAP."
   ]
  },
  {
   "cell_type": "code",
   "execution_count": 33,
   "metadata": {},
   "outputs": [
    {
     "name": "stdout",
     "output_type": "stream",
     "text": [
      "MAP: 0.373821 - Time: 1815.454829s\n",
      "Best: gge_snack(0.766892), women_clothes(0.705774)\n",
      "Worst: chair(0.123991), nba_jersey(0.144593)\n"
     ]
    }
   ],
   "source": [
    "features = [['HSV', 'AutoCorrelogram'], ['RGB', 'AutoCorrelogram'], ['Gray', 'PyramidHOG'], ['HSV', 'LocalColorHistogram'], ['Gray', 'GaborLocalHistogram'], ['Gray', 'GetSIFT']]\n",
    "features_list = [f[0] + '_' + f[1] for f in features]\n",
    "RunExperiment(FeatureDatabase, \n",
    "              FeatureList=features_list, \n",
    "              MetricList=['cityblock', 'cityblock', 'cityblock', 'cityblock', 'cityblock', 'match'],\n",
    "              WeightList=[1.4, 1.2, 0.6, 0.4, 0.06, 1.0])"
   ]
  }
 ],
 "metadata": {
  "kernelspec": {
   "display_name": "Python 3",
   "language": "python",
   "name": "python3"
  },
  "language_info": {
   "codemirror_mode": {
    "name": "ipython",
    "version": 3
   },
   "file_extension": ".py",
   "mimetype": "text/x-python",
   "name": "python",
   "nbconvert_exporter": "python",
   "pygments_lexer": "ipython3",
   "version": "3.6.8"
  }
 },
 "nbformat": 4,
 "nbformat_minor": 4
}
