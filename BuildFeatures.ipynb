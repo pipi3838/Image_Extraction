{
 "cells": [
  {
   "cell_type": "code",
   "execution_count": 1,
   "metadata": {},
   "outputs": [],
   "source": [
    "import os\n",
    "from glob import glob\n",
    "import cv2\n",
    "import numpy as np\n",
    "import pickle\n",
    "from tqdm import tqdm\n",
    "from utils import *\n",
    "import Features\n",
    "\n",
    "path = '/nfs/nas-5.1/wbcheng/cc_hw2/HW2-database-20f/'"
   ]
  },
  {
   "cell_type": "markdown",
   "metadata": {},
   "source": [
    "## Load Image Database"
   ]
  },
  {
   "cell_type": "code",
   "execution_count": 2,
   "metadata": {},
   "outputs": [
    {
     "name": "stdout",
     "output_type": "stream",
     "text": [
      "Total Categories: 35\n"
     ]
    }
   ],
   "source": [
    "Categories, ImagePaths = [], []\n",
    "for f in glob(os.path.join(path, 'database', '*')):\n",
    "    ImagePaths.append(glob(os.path.join(f, '*.jp*g')))\n",
    "    Categories.append(f.split('/')[-1])\n",
    "\n",
    "print('Total Categories: {}'.format(len(Categories)))"
   ]
  },
  {
   "cell_type": "markdown",
   "metadata": {},
   "source": [
    "## Load  Features DataBase"
   ]
  },
  {
   "cell_type": "code",
   "execution_count": 3,
   "metadata": {},
   "outputs": [
    {
     "name": "stdout",
     "output_type": "stream",
     "text": [
      "Loading feature database ...\n"
     ]
    }
   ],
   "source": [
    "feature_path = os.path.join(path, 'FeatureDatabase.pkl')\n",
    "if os.path.isfile(feature_path):\n",
    "    print('Loading feature database ...')\n",
    "    with open(feature_path, 'rb') as f:\n",
    "        FeatureDatabase = pickle.load(f)\n",
    "else:\n",
    "    print('Initializing feature database ...')\n",
    "    FeatureDatabase = {}\n",
    "    for C_id, C in enumerate(Categories): \n",
    "        FeatureDatabase[C] = []\n",
    "        for path in ImagePaths[C_id]:\n",
    "            RawImage = LoadImage(path)\n",
    "            \n",
    "            CurImageDict = {}\n",
    "            CurImageDict['Path'] = path\n",
    "            CurImageDict['RGB'] = RawImage\n",
    "            CurImageDict['Gray'] = np.expand_dims(cv2.cvtColor(RawImage, cv2.COLOR_RGB2GRAY), axis=-1)\n",
    "            CurImageDict['HSV'] = cv2.cvtColor(RawImage, cv2.COLOR_RGB2HSV)\n",
    "            CurImageDict['YUV'] = cv2.cvtColor(RawImage, cv2.COLOR_RGB2YUV)\n",
    "            CurImageDict['Lab'] = cv2.cvtColor(RawImage, cv2.COLOR_RGB2Lab)\n",
    "            \n",
    "            FeatureDatabase[C].append(CurImageDict)\n",
    "        print(\"█\", end='')\n",
    "    print()"
   ]
  },
  {
   "cell_type": "markdown",
   "metadata": {},
   "source": [
    "## Add Features"
   ]
  },
  {
   "cell_type": "code",
   "execution_count": 4,
   "metadata": {},
   "outputs": [
    {
     "name": "stdout",
     "output_type": "stream",
     "text": [
      "HSV_AutoCorrelogram  feature is already extracted!\n",
      "HSV_LocalColorHistogram  feature is already extracted!\n",
      "Gray_PyramidHOG  feature is already extracted!\n",
      "Gray_GetSIFT  feature is already extracted!\n",
      "Finish Extracting\n"
     ]
    }
   ],
   "source": [
    "#specify which feature(function), image type you want to extract\n",
    "#example [['RGB', 'GlobalColorHistogram'], [], ....]\n",
    "# features = [['RGB', 'GlobalColorHistogram'], ['RGB', 'LocalColorHistogram']]\n",
    "features = [['HSV', 'AutoCorrelogram'], ['HSV', 'LocalColorHistogram'], ['Gray', 'PyramidHOG'], ['Gray', 'GetSIFT']]\n",
    "\n",
    "for feature in features:\n",
    "    key = feature[0] + '_' + feature[1]\n",
    "    if key in FeatureDatabase[Categories[0]][0]: \n",
    "        print(key, ' feature is already extracted!')\n",
    "        continue\n",
    "    print('extract ', key)\n",
    "    for C in Categories:\n",
    "        for ImgDict in FeatureDatabase[C]:\n",
    "            extractor = getattr(Features, feature[1])\n",
    "            ImgDict[key] = extractor(ImgDict[feature[0]])\n",
    "        print(\"█\", end='')\n",
    "    print()\n",
    "print('Finish Extracting')"
   ]
  },
  {
   "cell_type": "markdown",
   "metadata": {},
   "source": [
    "## Save Feature Database"
   ]
  },
  {
   "cell_type": "code",
   "execution_count": 5,
   "metadata": {},
   "outputs": [],
   "source": [
    "with open(feature_path, 'wb') as f:\n",
    "    pickle.dump(FeatureDatabase, f)"
   ]
  }
 ],
 "metadata": {
  "kernelspec": {
   "display_name": "Python 3",
   "language": "python",
   "name": "python3"
  },
  "language_info": {
   "codemirror_mode": {
    "name": "ipython",
    "version": 3
   },
   "file_extension": ".py",
   "mimetype": "text/x-python",
   "name": "python",
   "nbconvert_exporter": "python",
   "pygments_lexer": "ipython3",
   "version": "3.6.8"
  }
 },
 "nbformat": 4,
 "nbformat_minor": 4
}
